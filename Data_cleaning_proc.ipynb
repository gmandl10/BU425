{
 "cells": [
  {
   "cell_type": "code",
   "execution_count": 12,
   "metadata": {},
   "outputs": [],
   "source": [
    "import os\n",
    "import shutil\n",
    "\n",
    "def copy_files(src_folder, dest_folder):\n",
    "    # Ensure source folder exists\n",
    "    if not os.path.exists(src_folder):\n",
    "        print(f\"Source folder '{src_folder}' does not exist.\")\n",
    "        return\n",
    "\n",
    "    # Ensure destination folder exists, create if not\n",
    "    if not os.path.exists(dest_folder):\n",
    "        os.makedirs(dest_folder)\n",
    "        print(f\"Destination folder '{dest_folder}' created.\")\n",
    "\n",
    "    # Get a list of all files in the source folder\n",
    "    files = [f for f in os.listdir(src_folder) if os.path.isfile(os.path.join(src_folder, f))]\n",
    "\n",
    "    # Copy each file to the destination folder\n",
    "    for file_name in files:\n",
    "        if os.path.isfile(os.path.join(dest_folder, file_name)):\n",
    "            new_file_name = \"_\" + file_name\n",
    "        else:\n",
    "            new_file_name = file_name\n",
    "        src_path = os.path.join(src_folder, file_name)\n",
    "        dest_path = os.path.join(dest_folder, new_file_name)\n",
    "        shutil.copy2(src_path, dest_path)  # Using shutil.copy2 to preserve metadata\n",
    "\n",
    "# Example usage:"
   ]
  },
  {
   "cell_type": "code",
   "execution_count": 15,
   "metadata": {},
   "outputs": [],
   "source": [
    "src_folder = \"MRI2_Data/Testing/pituitary/\"\n",
    "dest_folder = \"MRI2_Data/Training/pituitary/\"\n",
    "\n",
    "copy_files(src_folder,dest_folder)"
   ]
  },
  {
   "cell_type": "code",
   "execution_count": 31,
   "metadata": {},
   "outputs": [
    {
     "name": "stdout",
     "output_type": "stream",
     "text": [
      "Error loading MATLAB v7.3 file: \"Unable to open object (object 'data' doesn't exist)\"\n"
     ]
    }
   ],
   "source": [
    "import h5py\n",
    "\n",
    "def load_matlab_v73_file(file_path):\n",
    "    try:\n",
    "        with h5py.File(file_path, 'r') as file:\n",
    "            # Access the data in the file as needed\n",
    "            # For example, if the file contains a variable 'data', you can access it like this:\n",
    "            data = file['data'][:]\n",
    "            return data\n",
    "    except Exception as e:\n",
    "        print(f\"Error loading MATLAB v7.3 file: {str(e)}\")\n",
    "        return None\n",
    "\n",
    "# Example usage:\n",
    "mat_file_path = 'brainTumorDataPublic_1766\\\\2.mat'\n",
    "loaded_data = load_matlab_v73_file(mat_file_path)"
   ]
  },
  {
   "cell_type": "code",
   "execution_count": 73,
   "metadata": {},
   "outputs": [
    {
     "data": {
      "text/plain": [
       "array([[0, 0, 0, ..., 0, 0, 0],\n",
       "       [0, 0, 0, ..., 0, 0, 0],\n",
       "       [0, 0, 0, ..., 0, 0, 0],\n",
       "       ...,\n",
       "       [0, 0, 0, ..., 0, 0, 0],\n",
       "       [0, 0, 0, ..., 0, 0, 0],\n",
       "       [0, 0, 0, ..., 0, 0, 0]], dtype=uint8)"
      ]
     },
     "execution_count": 73,
     "metadata": {},
     "output_type": "execute_result"
    }
   ],
   "source": [
    "file = h5py.File(mat_file_path, 'r')\n",
    "\n",
    "file['cjdata'][\"label\"][0][0]\n",
    "\n",
    "np.array(file[\"cjdata\"][\"tumorMask\"])\n",
    "\n",
    "np.array(file[\"cjdata\"]['image'])"
   ]
  },
  {
   "cell_type": "code",
   "execution_count": 3,
   "metadata": {},
   "outputs": [],
   "source": [
    "# Split all the images into training, testing, and validation folders\n",
    "import os\n",
    "import shutil\n",
    "import random\n",
    "\n",
    "# Set the path to the main data folder\n",
    "main_data_folder = 'MRI1_Data'\n",
    "\n",
    "# Set the paths for the train, test, and val folders\n",
    "train_folder = 'Train'\n",
    "test_folder = 'Test'\n",
    "val_folder = 'Val'\n",
    "\n",
    "# Create the train, test, and val folders if they don't exist\n",
    "for folder in [train_folder, test_folder, val_folder]:\n",
    "    if not os.path.exists(folder):\n",
    "        os.makedirs(folder)\n",
    "\n",
    "# Set the ratio for train, test, and val\n",
    "train_ratio = 0.7\n",
    "test_ratio = 0.2\n",
    "val_ratio = 0.1\n",
    "\n",
    "# Iterate over the subfolders in the main data folder\n",
    "for subfolder in os.listdir(main_data_folder):\n",
    "    \n",
    "    subfolder_path = os.path.join(main_data_folder, subfolder)\n",
    "    for folder in [train_folder, test_folder, val_folder]:\n",
    "        if not os.path.exists(os.path.join(folder, subfolder)):\n",
    "            os.makedirs(os.path.join(folder, subfolder))\n",
    "    \n",
    "    # Get a list of all image files in the subfolder\n",
    "    image_files = [f for f in os.listdir(subfolder_path) if f.endswith('.jpg') or f.endswith('.png')]\n",
    "\n",
    "    # Shuffle the list of image files\n",
    "    random.shuffle(image_files)\n",
    "\n",
    "    # Calculate the number of images for each set based on the ratios\n",
    "    num_images = len(image_files)\n",
    "    num_train = int(train_ratio * num_images)\n",
    "    num_test = int(test_ratio * num_images)\n",
    "    num_val = num_images - num_train - num_test\n",
    "\n",
    "    # Split the image files into train, test, and val sets\n",
    "    train_set = image_files[:num_train]\n",
    "    test_set = image_files[num_train:num_train + num_test]\n",
    "    val_set = image_files[-num_val:]\n",
    "\n",
    "    # Copy the image files to their respective folders\n",
    "    for image in train_set:\n",
    "        shutil.copy(os.path.join(subfolder_path, image), os.path.join(train_folder, subfolder, image))\n",
    "    for image in test_set:\n",
    "        shutil.copy(os.path.join(subfolder_path, image), os.path.join(test_folder, subfolder, image))\n",
    "    for image in val_set:\n",
    "        shutil.copy(os.path.join(subfolder_path, image), os.path.join(val_folder, subfolder, image))"
   ]
  }
 ],
 "metadata": {
  "kernelspec": {
   "display_name": "Python 3",
   "language": "python",
   "name": "python3"
  },
  "language_info": {
   "codemirror_mode": {
    "name": "ipython",
    "version": 3
   },
   "file_extension": ".py",
   "mimetype": "text/x-python",
   "name": "python",
   "nbconvert_exporter": "python",
   "pygments_lexer": "ipython3",
   "version": "3.11.4"
  }
 },
 "nbformat": 4,
 "nbformat_minor": 2
}
