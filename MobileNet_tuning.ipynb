{
 "cells": [
  {
   "cell_type": "code",
   "execution_count": 8,
   "metadata": {},
   "outputs": [],
   "source": [
    "import os\n",
    "import skimage.io as ski\n",
    "import skimage.transform as skt\n",
    "import numpy as np\n",
    "import tensorflow as tf\n",
    "import keras\n",
    "from sklearn.model_selection import train_test_split\n",
    "from tensorflow.keras.preprocessing.image import ImageDataGenerator\n",
    "\n",
    "X = []\n",
    "y = []\n",
    "\n",
    "image_size = 160\n",
    "\n",
    "data_directory = \"MRI1_Data/\"\n",
    "\n",
    "classes = os.listdir(data_directory)\n",
    "\n",
    "for c in classes:\n",
    "    folder = os.path.join(data_directory, c)\n",
    "    for image in os.listdir(folder):\n",
    "        load_image = ski.imread(os.path.join(folder,image))\n",
    "        load_image = skt.resize(load_image, (image_size,image_size,3))\n",
    "        X.append(load_image)\n",
    "        y.append(c)\n",
    "\n",
    "X = np.array(X)\n",
    "y = np.array(y)\n",
    "\n",
    "train_X, val_X, train_y, val_y = train_test_split(X,y, test_size = 0.1)\n",
    "train_X, test_X, train_y, test_y = train_test_split(train_X,train_y, test_size = 0.2)\n",
    "\n",
    "train_y_new = []\n",
    "for i in train_y:\n",
    "    train_y_new.append(classes.index(i))\n",
    "train_y = train_y_new\n",
    "train_y = tf.keras.utils.to_categorical(train_y)\n",
    "\n",
    "test_y_new = []\n",
    "for i in test_y:\n",
    "    test_y_new.append(classes.index(i))\n",
    "test_y = test_y_new\n",
    "test_y = tf.keras.utils.to_categorical(test_y)\n",
    "\n",
    "val_y_new = []\n",
    "for i in val_y:\n",
    "    val_y_new.append(classes.index(i))\n",
    "val_y = val_y_new\n",
    "val_y = tf.keras.utils.to_categorical(val_y)\n",
    "\n",
    "idg = ImageDataGenerator(\n",
    "    rotation_range = 30,\n",
    "    rescale = 1./255.,\n",
    "    width_shift_range = 0.3,\n",
    "    height_shift_range = 0.3,\n",
    "    shear_range = 0.3,\n",
    "    zoom_range = 0.3,\n",
    "    horizontal_flip = True,\n",
    "    vertical_flip  = True\n",
    ")\n",
    "\n",
    "idg.fit(train_X)\n",
    "idg.fit(test_X)\n",
    "idg.fit(val_X)\n",
    "\n"
   ]
  },
  {
   "cell_type": "code",
   "execution_count": 5,
   "metadata": {},
   "outputs": [],
   "source": [
    "shapes = {}\n",
    "\n",
    "for i in X:\n",
    "\n",
    "    if i.shape not in shapes:\n",
    "\n",
    "        shapes[i.shape] = 1\n",
    "\n",
    "    else:\n",
    "\n",
    "        shapes[i.shape] += 1\n",
    "\n"
   ]
  },
  {
   "cell_type": "code",
   "execution_count": 6,
   "metadata": {},
   "outputs": [
    {
     "data": {
      "text/plain": [
       "{(160, 160, 3): 4034, (160, 160): 3301, (160, 160, 4): 4}"
      ]
     },
     "execution_count": 6,
     "metadata": {},
     "output_type": "execute_result"
    }
   ],
   "source": [
    "shapes"
   ]
  },
  {
   "cell_type": "code",
   "execution_count": 9,
   "metadata": {},
   "outputs": [],
   "source": [
    "from tensorflow.keras.applications import MobileNet\n",
    "from tensorflow.keras.applications.mobilenet import preprocess_input\n",
    "from tensorflow.keras.layers import Dense, GlobalAveragePooling2D\n",
    "from keras import Model"
   ]
  },
  {
   "cell_type": "markdown",
   "metadata": {},
   "source": [
    "### MobileNet Tuned to alpha = 0.75, alpha is the width multiplier and controls the width of the network. With alpha at 0.75 we are creating a model with 75% of the filters that would normally be in each layer"
   ]
  },
  {
   "cell_type": "code",
   "execution_count": 9,
   "metadata": {},
   "outputs": [
    {
     "name": "stdout",
     "output_type": "stream",
     "text": [
      "Downloading data from https://storage.googleapis.com/tensorflow/keras-applications/mobilenet/mobilenet_7_5_160_tf_no_top.h5\n",
      "10626956/10626956 [==============================] - 2s 0us/step\n",
      "Epoch 1/10\n",
      "82/82 [==============================] - 104s 883ms/step - loss: 0.6454 - accuracy: 0.7511 - val_loss: 0.7080 - val_accuracy: 0.7489\n",
      "Epoch 2/10\n",
      "82/82 [==============================] - 69s 845ms/step - loss: 0.2528 - accuracy: 0.9131 - val_loss: 0.4081 - val_accuracy: 0.8453\n",
      "Epoch 3/10\n",
      "82/82 [==============================] - 69s 838ms/step - loss: 0.1240 - accuracy: 0.9671 - val_loss: 0.3200 - val_accuracy: 0.8897\n",
      "Epoch 4/10\n",
      "82/82 [==============================] - 69s 837ms/step - loss: 0.0663 - accuracy: 0.9862 - val_loss: 0.2624 - val_accuracy: 0.9142\n",
      "Epoch 5/10\n",
      "82/82 [==============================] - 70s 855ms/step - loss: 0.0415 - accuracy: 0.9931 - val_loss: 0.2694 - val_accuracy: 0.9051\n",
      "Epoch 6/10\n",
      "82/82 [==============================] - 68s 836ms/step - loss: 0.0361 - accuracy: 0.9931 - val_loss: 0.2272 - val_accuracy: 0.9280\n",
      "Epoch 7/10\n",
      "82/82 [==============================] - 68s 831ms/step - loss: 0.0197 - accuracy: 0.9977 - val_loss: 0.2002 - val_accuracy: 0.9296\n",
      "Epoch 8/10\n",
      "82/82 [==============================] - 70s 852ms/step - loss: 0.0146 - accuracy: 0.9981 - val_loss: 0.1940 - val_accuracy: 0.9357\n",
      "Epoch 9/10\n",
      "82/82 [==============================] - 67s 823ms/step - loss: 0.0119 - accuracy: 0.9992 - val_loss: 0.2051 - val_accuracy: 0.9250\n",
      "Epoch 10/10\n",
      "82/82 [==============================] - 68s 832ms/step - loss: 0.0101 - accuracy: 0.9996 - val_loss: 0.2051 - val_accuracy: 0.9311\n"
     ]
    }
   ],
   "source": [
    "\n",
    "base_model = MobileNet(include_top=False, input_shape=(160, 160, 3),alpha = 0.75)\n",
    "x = base_model.output\n",
    "x = GlobalAveragePooling2D()(x)\n",
    "x = Dense(128, activation = \"relu\")(x)\n",
    "x = Dense(64, activation = \"relu\")(x)\n",
    "preds = Dense(4,activation = \"softmax\")(x)\n",
    "\n",
    "\n",
    "model_mobilenet_alpha1 = Model(inputs = base_model.input, outputs=preds)\n",
    "optimizer = tf.keras.optimizers.SGD(learning_rate=0.01)\n",
    "model_mobilenet_alpha1.compile(optimizer = optimizer, loss = \"categorical_crossentropy\", metrics = ['accuracy'])\n",
    "\n",
    "history = model_mobilenet_alpha1.fit(train_X, train_y, epochs = 10, validation_data = (test_X, test_y))"
   ]
  },
  {
   "cell_type": "code",
   "execution_count": 10,
   "metadata": {},
   "outputs": [
    {
     "name": "stdout",
     "output_type": "stream",
     "text": [
      "21/21 [==============================] - 5s 224ms/step - loss: 0.2051 - accuracy: 0.9311\n"
     ]
    },
    {
     "data": {
      "text/plain": [
       "[0.2051081508398056, 0.93108731508255]"
      ]
     },
     "execution_count": 10,
     "metadata": {},
     "output_type": "execute_result"
    }
   ],
   "source": [
    "model_mobilenet_alpha1.evaluate(x = val_X, y = val_y)"
   ]
  },
  {
   "cell_type": "markdown",
   "metadata": {},
   "source": [
    "### MobileNet Tuned to alpha = 0.5, alpha is the width multiplier and controls the width of the network. With alpha at 0.5 we are creating a model with 50% of the filters that would normally be in each layer"
   ]
  },
  {
   "cell_type": "code",
   "execution_count": 10,
   "metadata": {},
   "outputs": [
    {
     "name": "stdout",
     "output_type": "stream",
     "text": [
      "WARNING:tensorflow:From c:\\Users\\gmandl\\AppData\\Local\\Programs\\Python\\Python311\\Lib\\site-packages\\keras\\src\\backend.py:1398: The name tf.executing_eagerly_outside_functions is deprecated. Please use tf.compat.v1.executing_eagerly_outside_functions instead.\n",
      "\n",
      "WARNING:tensorflow:From c:\\Users\\gmandl\\AppData\\Local\\Programs\\Python\\Python311\\Lib\\site-packages\\keras\\src\\layers\\normalization\\batch_normalization.py:979: The name tf.nn.fused_batch_norm is deprecated. Please use tf.compat.v1.nn.fused_batch_norm instead.\n",
      "\n",
      "Epoch 1/10\n",
      "WARNING:tensorflow:From c:\\Users\\gmandl\\AppData\\Local\\Programs\\Python\\Python311\\Lib\\site-packages\\keras\\src\\utils\\tf_utils.py:492: The name tf.ragged.RaggedTensorValue is deprecated. Please use tf.compat.v1.ragged.RaggedTensorValue instead.\n",
      "\n",
      "WARNING:tensorflow:From c:\\Users\\gmandl\\AppData\\Local\\Programs\\Python\\Python311\\Lib\\site-packages\\keras\\src\\engine\\base_layer_utils.py:384: The name tf.executing_eagerly_outside_functions is deprecated. Please use tf.compat.v1.executing_eagerly_outside_functions instead.\n",
      "\n",
      "74/74 [==============================] - 50s 502ms/step - loss: 0.7445 - accuracy: 0.7077 - val_loss: 1.2619 - val_accuracy: 0.4558\n",
      "Epoch 2/10\n",
      "74/74 [==============================] - 39s 523ms/step - loss: 0.3406 - accuracy: 0.8796 - val_loss: 1.1989 - val_accuracy: 0.5646\n",
      "Epoch 3/10\n",
      "74/74 [==============================] - 37s 499ms/step - loss: 0.2305 - accuracy: 0.9200 - val_loss: 0.6370 - val_accuracy: 0.7619\n",
      "Epoch 4/10\n",
      "74/74 [==============================] - 38s 510ms/step - loss: 0.1434 - accuracy: 0.9583 - val_loss: 0.7318 - val_accuracy: 0.7296\n",
      "Epoch 5/10\n",
      "74/74 [==============================] - 38s 508ms/step - loss: 0.0936 - accuracy: 0.9800 - val_loss: 0.4137 - val_accuracy: 0.8537\n",
      "Epoch 6/10\n",
      "74/74 [==============================] - 38s 509ms/step - loss: 0.0667 - accuracy: 0.9851 - val_loss: 0.3548 - val_accuracy: 0.8724\n",
      "Epoch 7/10\n",
      "74/74 [==============================] - 39s 525ms/step - loss: 0.0515 - accuracy: 0.9894 - val_loss: 0.2801 - val_accuracy: 0.9031\n",
      "Epoch 8/10\n",
      "74/74 [==============================] - 37s 500ms/step - loss: 0.0364 - accuracy: 0.9928 - val_loss: 0.2179 - val_accuracy: 0.9167\n",
      "Epoch 9/10\n",
      "74/74 [==============================] - 37s 501ms/step - loss: 0.0259 - accuracy: 0.9979 - val_loss: 0.2203 - val_accuracy: 0.9150\n",
      "Epoch 10/10\n",
      "74/74 [==============================] - 37s 502ms/step - loss: 0.0230 - accuracy: 0.9974 - val_loss: 0.2079 - val_accuracy: 0.9218\n"
     ]
    }
   ],
   "source": [
    "\n",
    "base_model = MobileNet(include_top=False, input_shape=(160, 160, 3),alpha = 0.5)\n",
    "x = base_model.output\n",
    "x = GlobalAveragePooling2D()(x)\n",
    "x = Dense(128, activation = \"relu\")(x)\n",
    "x = Dense(64, activation = \"relu\")(x)\n",
    "preds = Dense(4,activation = \"softmax\")(x)\n",
    "\n",
    "model_mobilenet_alpha2 = Model(inputs = base_model.input, outputs=preds)\n",
    "optimizer = tf.keras.optimizers.SGD(learning_rate=0.01)\n",
    "model_mobilenet_alpha2.compile(optimizer = optimizer, loss = \"categorical_crossentropy\", metrics = ['accuracy'])\n",
    "\n",
    "history = model_mobilenet_alpha2.fit(train_X, train_y, epochs = 10, validation_data = (test_X, test_y), verbose = 1)"
   ]
  },
  {
   "cell_type": "code",
   "execution_count": null,
   "metadata": {},
   "outputs": [
    {
     "name": "stdout",
     "output_type": "stream",
     "text": [
      "21/21 [==============================] - 3s 125ms/step - loss: 0.2135 - accuracy: 0.9342\n"
     ]
    },
    {
     "data": {
      "text/plain": [
       "[0.21353574097156525, 0.9341500997543335]"
      ]
     },
     "execution_count": 12,
     "metadata": {},
     "output_type": "execute_result"
    }
   ],
   "source": [
    "model_mobilenet_alpha2.evaluate(x = val_X, y = val_y)"
   ]
  },
  {
   "cell_type": "markdown",
   "metadata": {},
   "source": [
    "### MobileNet Tuned to alpha = 0.25, alpha is the width multiplier and controls the width of the network. With alpha at 0.25 we are creating a model with 25% of the filters that would normally be in each layer"
   ]
  },
  {
   "cell_type": "code",
   "execution_count": 15,
   "metadata": {},
   "outputs": [
    {
     "name": "stdout",
     "output_type": "stream",
     "text": [
      "Epoch 1/20\n",
      "82/82 [==============================] - 41s 278ms/step - loss: 0.8766 - accuracy: 0.6455 - val_loss: 0.9932 - val_accuracy: 0.5620\n",
      "Epoch 2/20\n",
      "82/82 [==============================] - 18s 220ms/step - loss: 0.4933 - accuracy: 0.8300 - val_loss: 0.7356 - val_accuracy: 0.7320\n",
      "Epoch 3/20\n",
      "82/82 [==============================] - 18s 214ms/step - loss: 0.3465 - accuracy: 0.8828 - val_loss: 0.5912 - val_accuracy: 0.7688\n",
      "Epoch 4/20\n",
      "82/82 [==============================] - 18s 216ms/step - loss: 0.2780 - accuracy: 0.9043 - val_loss: 1.1088 - val_accuracy: 0.6845\n",
      "Epoch 5/20\n",
      "82/82 [==============================] - 18s 217ms/step - loss: 0.2094 - accuracy: 0.9349 - val_loss: 0.6736 - val_accuracy: 0.7596\n",
      "Epoch 6/20\n",
      "82/82 [==============================] - 18s 217ms/step - loss: 0.1655 - accuracy: 0.9433 - val_loss: 0.4897 - val_accuracy: 0.8239\n",
      "Epoch 7/20\n",
      "82/82 [==============================] - 18s 220ms/step - loss: 0.1283 - accuracy: 0.9613 - val_loss: 0.4160 - val_accuracy: 0.8377\n",
      "Epoch 8/20\n",
      "82/82 [==============================] - 18s 224ms/step - loss: 0.1017 - accuracy: 0.9732 - val_loss: 0.3606 - val_accuracy: 0.8591\n",
      "Epoch 9/20\n",
      "82/82 [==============================] - 17s 213ms/step - loss: 0.0910 - accuracy: 0.9743 - val_loss: 0.2787 - val_accuracy: 0.8943\n",
      "Epoch 10/20\n",
      "82/82 [==============================] - 18s 215ms/step - loss: 0.0609 - accuracy: 0.9851 - val_loss: 0.3941 - val_accuracy: 0.8576\n",
      "Epoch 11/20\n",
      "82/82 [==============================] - 18s 215ms/step - loss: 0.0516 - accuracy: 0.9870 - val_loss: 0.3367 - val_accuracy: 0.8683\n",
      "Epoch 12/20\n",
      "82/82 [==============================] - 17s 213ms/step - loss: 0.0468 - accuracy: 0.9881 - val_loss: 0.2340 - val_accuracy: 0.9081\n",
      "Epoch 13/20\n",
      "82/82 [==============================] - 17s 210ms/step - loss: 0.0346 - accuracy: 0.9927 - val_loss: 0.2797 - val_accuracy: 0.9035\n",
      "Epoch 14/20\n",
      "82/82 [==============================] - 18s 214ms/step - loss: 0.0316 - accuracy: 0.9927 - val_loss: 0.3464 - val_accuracy: 0.8867\n",
      "Epoch 15/20\n",
      "82/82 [==============================] - 18s 224ms/step - loss: 0.0278 - accuracy: 0.9969 - val_loss: 0.2483 - val_accuracy: 0.9127\n",
      "Epoch 16/20\n",
      "82/82 [==============================] - 17s 211ms/step - loss: 0.0253 - accuracy: 0.9973 - val_loss: 0.2554 - val_accuracy: 0.9142\n",
      "Epoch 17/20\n",
      "82/82 [==============================] - 19s 233ms/step - loss: 0.0268 - accuracy: 0.9935 - val_loss: 0.2570 - val_accuracy: 0.9219\n",
      "Epoch 18/20\n",
      "82/82 [==============================] - 17s 213ms/step - loss: 0.0171 - accuracy: 0.9969 - val_loss: 0.3370 - val_accuracy: 0.8882\n",
      "Epoch 19/20\n",
      "82/82 [==============================] - 17s 212ms/step - loss: 0.0164 - accuracy: 0.9977 - val_loss: 0.2632 - val_accuracy: 0.9142\n",
      "Epoch 20/20\n",
      "82/82 [==============================] - 17s 211ms/step - loss: 0.0220 - accuracy: 0.9954 - val_loss: 0.3520 - val_accuracy: 0.9127\n"
     ]
    }
   ],
   "source": [
    "\n",
    "base_model = MobileNet(include_top=False, input_shape=(160, 160, 3),alpha = 0.25)\n",
    "x = base_model.output\n",
    "x = GlobalAveragePooling2D()(x)\n",
    "x = Dense(128, activation = \"relu\")(x)\n",
    "x = Dense(64, activation = \"relu\")(x)\n",
    "preds = Dense(4,activation = \"softmax\")(x)\n",
    "\n",
    "model_mobilenet_alpha3 = Model(inputs = base_model.input, outputs=preds)\n",
    "optimizer = tf.keras.optimizers.SGD(learning_rate=0.01)\n",
    "model_mobilenet_alpha3.compile(optimizer = optimizer, loss = \"categorical_crossentropy\", metrics = ['accuracy'])\n",
    "\n",
    "history = model_mobilenet_alpha3.fit(train_X, train_y, epochs = 20, validation_data = (test_X, test_y), verbose = 1)"
   ]
  },
  {
   "cell_type": "code",
   "execution_count": 16,
   "metadata": {},
   "outputs": [
    {
     "name": "stdout",
     "output_type": "stream",
     "text": [
      "21/21 [==============================] - 1s 61ms/step - loss: 0.3520 - accuracy: 0.9127\n"
     ]
    },
    {
     "data": {
      "text/plain": [
       "[0.3520335257053375, 0.9127105474472046]"
      ]
     },
     "execution_count": 16,
     "metadata": {},
     "output_type": "execute_result"
    }
   ],
   "source": [
    "model_mobilenet_alpha3.evaluate(x = val_X, y = val_y)"
   ]
  },
  {
   "cell_type": "markdown",
   "metadata": {},
   "source": [
    "### MobileNet Tuned to dropout = 0.01, dropout represents the dropout rate used for regularizing to combat overfitting of the training models.\n",
    "_We used alpha = 0.5 since it has the best out of sample preferences of all the alpha parameters_"
   ]
  },
  {
   "cell_type": "code",
   "execution_count": null,
   "metadata": {},
   "outputs": [
    {
     "name": "stdout",
     "output_type": "stream",
     "text": [
      "Epoch 1/10\n",
      "82/82 [==============================] - 70s 594ms/step - loss: 0.7094 - accuracy: 0.7293 - val_loss: 1.2200 - val_accuracy: 0.4717\n",
      "Epoch 2/10\n",
      "82/82 [==============================] - 41s 501ms/step - loss: 0.3360 - accuracy: 0.8783 - val_loss: 1.6674 - val_accuracy: 0.3583\n",
      "Epoch 3/10\n",
      "82/82 [==============================] - 40s 492ms/step - loss: 0.1975 - accuracy: 0.9391 - val_loss: 1.1516 - val_accuracy: 0.5988\n",
      "Epoch 4/10\n",
      "82/82 [==============================] - 40s 492ms/step - loss: 0.1259 - accuracy: 0.9678 - val_loss: 0.6989 - val_accuracy: 0.7397\n",
      "Epoch 5/10\n",
      "82/82 [==============================] - 44s 535ms/step - loss: 0.0810 - accuracy: 0.9809 - val_loss: 0.7341 - val_accuracy: 0.7596\n",
      "Epoch 6/10\n",
      "82/82 [==============================] - 44s 541ms/step - loss: 0.0546 - accuracy: 0.9900 - val_loss: 0.3963 - val_accuracy: 0.8668\n",
      "Epoch 7/10\n",
      "82/82 [==============================] - 54s 661ms/step - loss: 0.0374 - accuracy: 0.9935 - val_loss: 0.2913 - val_accuracy: 0.8897\n",
      "Epoch 8/10\n",
      "82/82 [==============================] - 52s 640ms/step - loss: 0.0294 - accuracy: 0.9946 - val_loss: 0.2552 - val_accuracy: 0.9142\n",
      "Epoch 9/10\n",
      "82/82 [==============================] - 42s 508ms/step - loss: 0.0202 - accuracy: 0.9973 - val_loss: 0.2376 - val_accuracy: 0.9234\n",
      "Epoch 10/10\n",
      "82/82 [==============================] - 46s 559ms/step - loss: 0.0207 - accuracy: 0.9954 - val_loss: 0.2347 - val_accuracy: 0.9204\n"
     ]
    }
   ],
   "source": [
    "\n",
    "base_model = MobileNet(include_top=False, input_shape=(160, 160, 3),alpha = 0.5, dropout=0.01)\n",
    "x = base_model.output\n",
    "x = GlobalAveragePooling2D()(x)\n",
    "x = Dense(128, activation = \"relu\")(x)\n",
    "x = Dense(64, activation = \"relu\")(x)\n",
    "preds = Dense(4,activation = \"softmax\")(x)\n",
    "\n",
    "model_mobilenet_dropout1 = Model(inputs = base_model.input, outputs=preds)\n",
    "optimizer = tf.keras.optimizers.SGD(learning_rate=0.01)\n",
    "model_mobilenet_dropout1.compile(optimizer = optimizer, loss = \"categorical_crossentropy\", metrics = ['accuracy'])\n",
    "\n",
    "history = model_mobilenet_dropout1.fit(train_X, train_y, epochs = 10, validation_data = (test_X, test_y), verbose = 1)"
   ]
  },
  {
   "cell_type": "code",
   "execution_count": 20,
   "metadata": {},
   "outputs": [
    {
     "name": "stdout",
     "output_type": "stream",
     "text": [
      "21/21 [==============================] - 3s 141ms/step - loss: 0.2347 - accuracy: 0.9204\n"
     ]
    },
    {
     "data": {
      "text/plain": [
       "[0.23469983041286469, 0.9203675389289856]"
      ]
     },
     "execution_count": 20,
     "metadata": {},
     "output_type": "execute_result"
    }
   ],
   "source": [
    "model_mobilenet_dropout1.evaluate(x = val_X, y = val_y)"
   ]
  },
  {
   "cell_type": "markdown",
   "metadata": {},
   "source": [
    "### Dropout 0.1"
   ]
  },
  {
   "cell_type": "code",
   "execution_count": 21,
   "metadata": {},
   "outputs": [
    {
     "name": "stdout",
     "output_type": "stream",
     "text": [
      "Epoch 1/10\n",
      "82/82 [==============================] - 67s 534ms/step - loss: 0.7327 - accuracy: 0.7167 - val_loss: 1.2480 - val_accuracy: 0.5345\n",
      "Epoch 2/10\n",
      "82/82 [==============================] - 40s 492ms/step - loss: 0.3293 - accuracy: 0.8905 - val_loss: 0.9709 - val_accuracy: 0.5988\n",
      "Epoch 3/10\n",
      "82/82 [==============================] - 40s 488ms/step - loss: 0.2013 - accuracy: 0.9330 - val_loss: 0.6682 - val_accuracy: 0.7152\n",
      "Epoch 4/10\n",
      "82/82 [==============================] - 40s 483ms/step - loss: 0.1315 - accuracy: 0.9594 - val_loss: 0.4501 - val_accuracy: 0.8407\n",
      "Epoch 5/10\n",
      "82/82 [==============================] - 41s 496ms/step - loss: 0.0827 - accuracy: 0.9820 - val_loss: 0.4273 - val_accuracy: 0.8499\n",
      "Epoch 6/10\n",
      "82/82 [==============================] - 39s 481ms/step - loss: 0.0489 - accuracy: 0.9916 - val_loss: 0.2870 - val_accuracy: 0.9005\n",
      "Epoch 7/10\n",
      "82/82 [==============================] - 40s 482ms/step - loss: 0.0371 - accuracy: 0.9943 - val_loss: 0.2496 - val_accuracy: 0.9127\n",
      "Epoch 8/10\n",
      "82/82 [==============================] - 40s 486ms/step - loss: 0.0265 - accuracy: 0.9969 - val_loss: 0.2377 - val_accuracy: 0.9296\n",
      "Epoch 9/10\n",
      "82/82 [==============================] - 40s 486ms/step - loss: 0.0213 - accuracy: 0.9973 - val_loss: 0.2436 - val_accuracy: 0.9188\n",
      "Epoch 10/10\n",
      "82/82 [==============================] - 40s 493ms/step - loss: 0.0175 - accuracy: 0.9977 - val_loss: 0.2358 - val_accuracy: 0.9280\n"
     ]
    }
   ],
   "source": [
    "\n",
    "base_model = MobileNet(include_top=False, input_shape=(160, 160, 3),alpha = 0.5, dropout=0.1)\n",
    "x = base_model.output\n",
    "x = GlobalAveragePooling2D()(x)\n",
    "x = Dense(128, activation = \"relu\")(x)\n",
    "x = Dense(64, activation = \"relu\")(x)\n",
    "preds = Dense(4,activation = \"softmax\")(x)\n",
    "\n",
    "model_mobilenet_dropout2 = Model(inputs = base_model.input, outputs=preds)\n",
    "optimizer = tf.keras.optimizers.SGD(learning_rate=0.01)\n",
    "model_mobilenet_dropout2.compile(optimizer = optimizer, loss = \"categorical_crossentropy\", metrics = ['accuracy'])\n",
    "\n",
    "history = model_mobilenet_dropout2.fit(train_X, train_y, epochs = 10, validation_data = (test_X, test_y), verbose = 1)"
   ]
  },
  {
   "cell_type": "code",
   "execution_count": 22,
   "metadata": {},
   "outputs": [
    {
     "name": "stdout",
     "output_type": "stream",
     "text": [
      "21/21 [==============================] - 3s 128ms/step - loss: 0.2358 - accuracy: 0.9280\n"
     ]
    },
    {
     "data": {
      "text/plain": [
       "[0.2358420342206955, 0.9280245304107666]"
      ]
     },
     "execution_count": 22,
     "metadata": {},
     "output_type": "execute_result"
    }
   ],
   "source": [
    "model_mobilenet_dropout2.evaluate(x = val_X, y = val_y)"
   ]
  },
  {
   "cell_type": "markdown",
   "metadata": {},
   "source": [
    "### Dropout 0.2"
   ]
  },
  {
   "cell_type": "code",
   "execution_count": 23,
   "metadata": {},
   "outputs": [
    {
     "name": "stdout",
     "output_type": "stream",
     "text": [
      "Epoch 1/10\n",
      "82/82 [==============================] - 74s 576ms/step - loss: 0.7237 - accuracy: 0.7286 - val_loss: 1.7130 - val_accuracy: 0.4472\n",
      "Epoch 2/10\n",
      "82/82 [==============================] - 40s 493ms/step - loss: 0.3191 - accuracy: 0.8924 - val_loss: 0.8099 - val_accuracy: 0.6508\n",
      "Epoch 3/10\n",
      "82/82 [==============================] - 41s 502ms/step - loss: 0.2065 - accuracy: 0.9338 - val_loss: 0.7298 - val_accuracy: 0.7152\n",
      "Epoch 4/10\n",
      "82/82 [==============================] - 41s 495ms/step - loss: 0.1390 - accuracy: 0.9598 - val_loss: 0.7197 - val_accuracy: 0.7228\n",
      "Epoch 5/10\n",
      "82/82 [==============================] - 40s 487ms/step - loss: 0.0925 - accuracy: 0.9786 - val_loss: 0.4044 - val_accuracy: 0.8331\n",
      "Epoch 6/10\n",
      "82/82 [==============================] - 40s 492ms/step - loss: 0.0582 - accuracy: 0.9900 - val_loss: 0.2540 - val_accuracy: 0.9096\n",
      "Epoch 7/10\n",
      "82/82 [==============================] - 40s 491ms/step - loss: 0.0468 - accuracy: 0.9908 - val_loss: 0.2181 - val_accuracy: 0.9250\n",
      "Epoch 8/10\n",
      "82/82 [==============================] - 40s 483ms/step - loss: 0.0428 - accuracy: 0.9897 - val_loss: 0.2594 - val_accuracy: 0.9005\n",
      "Epoch 9/10\n",
      "82/82 [==============================] - 40s 493ms/step - loss: 0.0233 - accuracy: 0.9992 - val_loss: 0.2108 - val_accuracy: 0.9311\n",
      "Epoch 10/10\n",
      "82/82 [==============================] - 40s 492ms/step - loss: 0.0223 - accuracy: 0.9946 - val_loss: 0.2432 - val_accuracy: 0.9112\n"
     ]
    }
   ],
   "source": [
    "\n",
    "base_model = MobileNet(include_top=False, input_shape=(160, 160, 3),alpha = 0.5, dropout=0.2)\n",
    "x = base_model.output\n",
    "x = GlobalAveragePooling2D()(x)\n",
    "x = Dense(128, activation = \"relu\")(x)\n",
    "x = Dense(64, activation = \"relu\")(x)\n",
    "preds = Dense(4,activation = \"softmax\")(x)\n",
    "\n",
    "\n",
    "model_mobilenet_dropout3 = Model(inputs = base_model.input, outputs=preds)\n",
    "optimizer = tf.keras.optimizers.SGD(learning_rate=0.01)\n",
    "model_mobilenet_dropout3.compile(optimizer = optimizer, loss = \"categorical_crossentropy\", metrics = ['accuracy'])\n",
    "\n",
    "history = model_mobilenet_dropout3.fit(train_X, train_y, epochs = 10, validation_data = (test_X, test_y), verbose = 1)"
   ]
  },
  {
   "cell_type": "code",
   "execution_count": null,
   "metadata": {},
   "outputs": [],
   "source": [
    "model_mobilenet_dropout3.evaluate(x = val_X, y = val_y)"
   ]
  },
  {
   "cell_type": "markdown",
   "metadata": {},
   "source": [
    "### Dropout = 0.3"
   ]
  },
  {
   "cell_type": "code",
   "execution_count": 24,
   "metadata": {},
   "outputs": [
    {
     "name": "stdout",
     "output_type": "stream",
     "text": [
      "Epoch 1/10\n",
      "82/82 [==============================] - 70s 523ms/step - loss: 0.7570 - accuracy: 0.7037 - val_loss: 1.0284 - val_accuracy: 0.5482\n",
      "Epoch 2/10\n",
      "82/82 [==============================] - 40s 487ms/step - loss: 0.3555 - accuracy: 0.8836 - val_loss: 0.5965 - val_accuracy: 0.7749\n",
      "Epoch 3/10\n",
      "82/82 [==============================] - 40s 486ms/step - loss: 0.2266 - accuracy: 0.9211 - val_loss: 0.5058 - val_accuracy: 0.8025\n",
      "Epoch 4/10\n",
      "82/82 [==============================] - 40s 483ms/step - loss: 0.1464 - accuracy: 0.9579 - val_loss: 0.4825 - val_accuracy: 0.8040\n",
      "Epoch 5/10\n",
      "82/82 [==============================] - 40s 490ms/step - loss: 0.1041 - accuracy: 0.9743 - val_loss: 0.3002 - val_accuracy: 0.8775\n",
      "Epoch 6/10\n",
      "82/82 [==============================] - 41s 505ms/step - loss: 0.0635 - accuracy: 0.9851 - val_loss: 0.2294 - val_accuracy: 0.9173\n",
      "Epoch 7/10\n",
      "82/82 [==============================] - 44s 536ms/step - loss: 0.0521 - accuracy: 0.9885 - val_loss: 0.3227 - val_accuracy: 0.8760\n",
      "Epoch 8/10\n",
      "82/82 [==============================] - 54s 660ms/step - loss: 0.0344 - accuracy: 0.9927 - val_loss: 0.1841 - val_accuracy: 0.9234\n",
      "Epoch 9/10\n",
      "82/82 [==============================] - 53s 646ms/step - loss: 0.0258 - accuracy: 0.9958 - val_loss: 0.1666 - val_accuracy: 0.9342\n",
      "Epoch 10/10\n",
      "82/82 [==============================] - 47s 574ms/step - loss: 0.0201 - accuracy: 0.9989 - val_loss: 0.1928 - val_accuracy: 0.9265\n"
     ]
    }
   ],
   "source": [
    "\n",
    "base_model = MobileNet(include_top=False, input_shape=(160, 160, 3),alpha = 0.5, dropout=0.3)\n",
    "x = base_model.output\n",
    "x = GlobalAveragePooling2D()(x)\n",
    "x = Dense(128, activation = \"relu\")(x)\n",
    "x = Dense(64, activation = \"relu\")(x)\n",
    "preds = Dense(4,activation = \"softmax\")(x)\n",
    "\n",
    "\n",
    "model_mobilenet_dropout3 = Model(inputs = base_model.input, outputs=preds)\n",
    "optimizer = tf.keras.optimizers.SGD(learning_rate=0.01)\n",
    "model_mobilenet_dropout3.compile(optimizer = optimizer, loss = \"categorical_crossentropy\", metrics = ['accuracy'])\n",
    "\n",
    "history = model_mobilenet_dropout3.fit(train_X, train_y, epochs = 10, validation_data = (test_X, test_y), verbose = 1)"
   ]
  },
  {
   "cell_type": "code",
   "execution_count": null,
   "metadata": {},
   "outputs": [],
   "source": [
    "model_mobilenet_dropout3.evaluate(x = val_X, y = val_y)"
   ]
  },
  {
   "cell_type": "markdown",
   "metadata": {},
   "source": [
    "### Dropout 0.5"
   ]
  },
  {
   "cell_type": "code",
   "execution_count": 25,
   "metadata": {},
   "outputs": [
    {
     "name": "stdout",
     "output_type": "stream",
     "text": [
      "Epoch 1/10\n",
      "47/82 [================>.............] - ETA: 17s - loss: 0.9170 - accuracy: 0.6330"
     ]
    },
    {
     "ename": "KeyboardInterrupt",
     "evalue": "",
     "output_type": "error",
     "traceback": [
      "\u001b[1;31m---------------------------------------------------------------------------\u001b[0m",
      "\u001b[1;31mKeyboardInterrupt\u001b[0m                         Traceback (most recent call last)",
      "\u001b[1;32mUntitled-2.ipynb Cell 14\u001b[0m line \u001b[0;36m1\n\u001b[0;32m     <a href='vscode-notebook-cell:Untitled-2.ipynb?jupyter-notebook#X22sdW50aXRsZWQ%3D?line=14'>15</a>\u001b[0m optimizer \u001b[39m=\u001b[39m tf\u001b[39m.\u001b[39mkeras\u001b[39m.\u001b[39moptimizers\u001b[39m.\u001b[39mSGD(learning_rate\u001b[39m=\u001b[39m\u001b[39m0.01\u001b[39m)\n\u001b[0;32m     <a href='vscode-notebook-cell:Untitled-2.ipynb?jupyter-notebook#X22sdW50aXRsZWQ%3D?line=15'>16</a>\u001b[0m model_mobilenet\u001b[39m.\u001b[39mcompile(optimizer \u001b[39m=\u001b[39m optimizer, loss \u001b[39m=\u001b[39m \u001b[39m\"\u001b[39m\u001b[39mcategorical_crossentropy\u001b[39m\u001b[39m\"\u001b[39m, metrics \u001b[39m=\u001b[39m [\u001b[39m'\u001b[39m\u001b[39maccuracy\u001b[39m\u001b[39m'\u001b[39m])\n\u001b[1;32m---> <a href='vscode-notebook-cell:Untitled-2.ipynb?jupyter-notebook#X22sdW50aXRsZWQ%3D?line=17'>18</a>\u001b[0m history \u001b[39m=\u001b[39m model_mobilenet\u001b[39m.\u001b[39;49mfit(trainX, trainy, epochs \u001b[39m=\u001b[39;49m \u001b[39m10\u001b[39;49m, validation_data \u001b[39m=\u001b[39;49m (testX, testy), verbose \u001b[39m=\u001b[39;49m \u001b[39m1\u001b[39;49m)\n",
      "File \u001b[1;32mc:\\Users\\gmandl\\AppData\\Local\\Programs\\Python\\Python311\\Lib\\site-packages\\keras\\src\\utils\\traceback_utils.py:65\u001b[0m, in \u001b[0;36mfilter_traceback.<locals>.error_handler\u001b[1;34m(*args, **kwargs)\u001b[0m\n\u001b[0;32m     63\u001b[0m filtered_tb \u001b[39m=\u001b[39m \u001b[39mNone\u001b[39;00m\n\u001b[0;32m     64\u001b[0m \u001b[39mtry\u001b[39;00m:\n\u001b[1;32m---> 65\u001b[0m     \u001b[39mreturn\u001b[39;00m fn(\u001b[39m*\u001b[39;49margs, \u001b[39m*\u001b[39;49m\u001b[39m*\u001b[39;49mkwargs)\n\u001b[0;32m     66\u001b[0m \u001b[39mexcept\u001b[39;00m \u001b[39mException\u001b[39;00m \u001b[39mas\u001b[39;00m e:\n\u001b[0;32m     67\u001b[0m     filtered_tb \u001b[39m=\u001b[39m _process_traceback_frames(e\u001b[39m.\u001b[39m__traceback__)\n",
      "File \u001b[1;32mc:\\Users\\gmandl\\AppData\\Local\\Programs\\Python\\Python311\\Lib\\site-packages\\keras\\src\\engine\\training.py:1807\u001b[0m, in \u001b[0;36mModel.fit\u001b[1;34m(self, x, y, batch_size, epochs, verbose, callbacks, validation_split, validation_data, shuffle, class_weight, sample_weight, initial_epoch, steps_per_epoch, validation_steps, validation_batch_size, validation_freq, max_queue_size, workers, use_multiprocessing)\u001b[0m\n\u001b[0;32m   1799\u001b[0m \u001b[39mwith\u001b[39;00m tf\u001b[39m.\u001b[39mprofiler\u001b[39m.\u001b[39mexperimental\u001b[39m.\u001b[39mTrace(\n\u001b[0;32m   1800\u001b[0m     \u001b[39m\"\u001b[39m\u001b[39mtrain\u001b[39m\u001b[39m\"\u001b[39m,\n\u001b[0;32m   1801\u001b[0m     epoch_num\u001b[39m=\u001b[39mepoch,\n\u001b[1;32m   (...)\u001b[0m\n\u001b[0;32m   1804\u001b[0m     _r\u001b[39m=\u001b[39m\u001b[39m1\u001b[39m,\n\u001b[0;32m   1805\u001b[0m ):\n\u001b[0;32m   1806\u001b[0m     callbacks\u001b[39m.\u001b[39mon_train_batch_begin(step)\n\u001b[1;32m-> 1807\u001b[0m     tmp_logs \u001b[39m=\u001b[39m \u001b[39mself\u001b[39;49m\u001b[39m.\u001b[39;49mtrain_function(iterator)\n\u001b[0;32m   1808\u001b[0m     \u001b[39mif\u001b[39;00m data_handler\u001b[39m.\u001b[39mshould_sync:\n\u001b[0;32m   1809\u001b[0m         context\u001b[39m.\u001b[39masync_wait()\n",
      "File \u001b[1;32mc:\\Users\\gmandl\\AppData\\Local\\Programs\\Python\\Python311\\Lib\\site-packages\\tensorflow\\python\\util\\traceback_utils.py:150\u001b[0m, in \u001b[0;36mfilter_traceback.<locals>.error_handler\u001b[1;34m(*args, **kwargs)\u001b[0m\n\u001b[0;32m    148\u001b[0m filtered_tb \u001b[39m=\u001b[39m \u001b[39mNone\u001b[39;00m\n\u001b[0;32m    149\u001b[0m \u001b[39mtry\u001b[39;00m:\n\u001b[1;32m--> 150\u001b[0m   \u001b[39mreturn\u001b[39;00m fn(\u001b[39m*\u001b[39;49margs, \u001b[39m*\u001b[39;49m\u001b[39m*\u001b[39;49mkwargs)\n\u001b[0;32m    151\u001b[0m \u001b[39mexcept\u001b[39;00m \u001b[39mException\u001b[39;00m \u001b[39mas\u001b[39;00m e:\n\u001b[0;32m    152\u001b[0m   filtered_tb \u001b[39m=\u001b[39m _process_traceback_frames(e\u001b[39m.\u001b[39m__traceback__)\n",
      "File \u001b[1;32mc:\\Users\\gmandl\\AppData\\Local\\Programs\\Python\\Python311\\Lib\\site-packages\\tensorflow\\python\\eager\\polymorphic_function\\polymorphic_function.py:832\u001b[0m, in \u001b[0;36mFunction.__call__\u001b[1;34m(self, *args, **kwds)\u001b[0m\n\u001b[0;32m    829\u001b[0m compiler \u001b[39m=\u001b[39m \u001b[39m\"\u001b[39m\u001b[39mxla\u001b[39m\u001b[39m\"\u001b[39m \u001b[39mif\u001b[39;00m \u001b[39mself\u001b[39m\u001b[39m.\u001b[39m_jit_compile \u001b[39melse\u001b[39;00m \u001b[39m\"\u001b[39m\u001b[39mnonXla\u001b[39m\u001b[39m\"\u001b[39m\n\u001b[0;32m    831\u001b[0m \u001b[39mwith\u001b[39;00m OptionalXlaContext(\u001b[39mself\u001b[39m\u001b[39m.\u001b[39m_jit_compile):\n\u001b[1;32m--> 832\u001b[0m   result \u001b[39m=\u001b[39m \u001b[39mself\u001b[39;49m\u001b[39m.\u001b[39;49m_call(\u001b[39m*\u001b[39;49margs, \u001b[39m*\u001b[39;49m\u001b[39m*\u001b[39;49mkwds)\n\u001b[0;32m    834\u001b[0m new_tracing_count \u001b[39m=\u001b[39m \u001b[39mself\u001b[39m\u001b[39m.\u001b[39mexperimental_get_tracing_count()\n\u001b[0;32m    835\u001b[0m without_tracing \u001b[39m=\u001b[39m (tracing_count \u001b[39m==\u001b[39m new_tracing_count)\n",
      "File \u001b[1;32mc:\\Users\\gmandl\\AppData\\Local\\Programs\\Python\\Python311\\Lib\\site-packages\\tensorflow\\python\\eager\\polymorphic_function\\polymorphic_function.py:868\u001b[0m, in \u001b[0;36mFunction._call\u001b[1;34m(self, *args, **kwds)\u001b[0m\n\u001b[0;32m    865\u001b[0m   \u001b[39mself\u001b[39m\u001b[39m.\u001b[39m_lock\u001b[39m.\u001b[39mrelease()\n\u001b[0;32m    866\u001b[0m   \u001b[39m# In this case we have created variables on the first call, so we run the\u001b[39;00m\n\u001b[0;32m    867\u001b[0m   \u001b[39m# defunned version which is guaranteed to never create variables.\u001b[39;00m\n\u001b[1;32m--> 868\u001b[0m   \u001b[39mreturn\u001b[39;00m tracing_compilation\u001b[39m.\u001b[39;49mcall_function(\n\u001b[0;32m    869\u001b[0m       args, kwds, \u001b[39mself\u001b[39;49m\u001b[39m.\u001b[39;49m_no_variable_creation_config\n\u001b[0;32m    870\u001b[0m   )\n\u001b[0;32m    871\u001b[0m \u001b[39melif\u001b[39;00m \u001b[39mself\u001b[39m\u001b[39m.\u001b[39m_variable_creation_config \u001b[39mis\u001b[39;00m \u001b[39mnot\u001b[39;00m \u001b[39mNone\u001b[39;00m:\n\u001b[0;32m    872\u001b[0m   \u001b[39m# Release the lock early so that multiple threads can perform the call\u001b[39;00m\n\u001b[0;32m    873\u001b[0m   \u001b[39m# in parallel.\u001b[39;00m\n\u001b[0;32m    874\u001b[0m   \u001b[39mself\u001b[39m\u001b[39m.\u001b[39m_lock\u001b[39m.\u001b[39mrelease()\n",
      "File \u001b[1;32mc:\\Users\\gmandl\\AppData\\Local\\Programs\\Python\\Python311\\Lib\\site-packages\\tensorflow\\python\\eager\\polymorphic_function\\tracing_compilation.py:139\u001b[0m, in \u001b[0;36mcall_function\u001b[1;34m(args, kwargs, tracing_options)\u001b[0m\n\u001b[0;32m    137\u001b[0m bound_args \u001b[39m=\u001b[39m function\u001b[39m.\u001b[39mfunction_type\u001b[39m.\u001b[39mbind(\u001b[39m*\u001b[39margs, \u001b[39m*\u001b[39m\u001b[39m*\u001b[39mkwargs)\n\u001b[0;32m    138\u001b[0m flat_inputs \u001b[39m=\u001b[39m function\u001b[39m.\u001b[39mfunction_type\u001b[39m.\u001b[39munpack_inputs(bound_args)\n\u001b[1;32m--> 139\u001b[0m \u001b[39mreturn\u001b[39;00m function\u001b[39m.\u001b[39;49m_call_flat(  \u001b[39m# pylint: disable=protected-access\u001b[39;49;00m\n\u001b[0;32m    140\u001b[0m     flat_inputs, captured_inputs\u001b[39m=\u001b[39;49mfunction\u001b[39m.\u001b[39;49mcaptured_inputs\n\u001b[0;32m    141\u001b[0m )\n",
      "File \u001b[1;32mc:\\Users\\gmandl\\AppData\\Local\\Programs\\Python\\Python311\\Lib\\site-packages\\tensorflow\\python\\eager\\polymorphic_function\\concrete_function.py:1323\u001b[0m, in \u001b[0;36mConcreteFunction._call_flat\u001b[1;34m(self, tensor_inputs, captured_inputs)\u001b[0m\n\u001b[0;32m   1319\u001b[0m possible_gradient_type \u001b[39m=\u001b[39m gradients_util\u001b[39m.\u001b[39mPossibleTapeGradientTypes(args)\n\u001b[0;32m   1320\u001b[0m \u001b[39mif\u001b[39;00m (possible_gradient_type \u001b[39m==\u001b[39m gradients_util\u001b[39m.\u001b[39mPOSSIBLE_GRADIENT_TYPES_NONE\n\u001b[0;32m   1321\u001b[0m     \u001b[39mand\u001b[39;00m executing_eagerly):\n\u001b[0;32m   1322\u001b[0m   \u001b[39m# No tape is watching; skip to running the function.\u001b[39;00m\n\u001b[1;32m-> 1323\u001b[0m   \u001b[39mreturn\u001b[39;00m \u001b[39mself\u001b[39;49m\u001b[39m.\u001b[39;49m_inference_function\u001b[39m.\u001b[39;49mcall_preflattened(args)\n\u001b[0;32m   1324\u001b[0m forward_backward \u001b[39m=\u001b[39m \u001b[39mself\u001b[39m\u001b[39m.\u001b[39m_select_forward_and_backward_functions(\n\u001b[0;32m   1325\u001b[0m     args,\n\u001b[0;32m   1326\u001b[0m     possible_gradient_type,\n\u001b[0;32m   1327\u001b[0m     executing_eagerly)\n\u001b[0;32m   1328\u001b[0m forward_function, args_with_tangents \u001b[39m=\u001b[39m forward_backward\u001b[39m.\u001b[39mforward()\n",
      "File \u001b[1;32mc:\\Users\\gmandl\\AppData\\Local\\Programs\\Python\\Python311\\Lib\\site-packages\\tensorflow\\python\\eager\\polymorphic_function\\atomic_function.py:216\u001b[0m, in \u001b[0;36mAtomicFunction.call_preflattened\u001b[1;34m(self, args)\u001b[0m\n\u001b[0;32m    214\u001b[0m \u001b[39mdef\u001b[39;00m \u001b[39mcall_preflattened\u001b[39m(\u001b[39mself\u001b[39m, args: Sequence[core\u001b[39m.\u001b[39mTensor]) \u001b[39m-\u001b[39m\u001b[39m>\u001b[39m Any:\n\u001b[0;32m    215\u001b[0m \u001b[39m  \u001b[39m\u001b[39m\"\"\"Calls with flattened tensor inputs and returns the structured output.\"\"\"\u001b[39;00m\n\u001b[1;32m--> 216\u001b[0m   flat_outputs \u001b[39m=\u001b[39m \u001b[39mself\u001b[39;49m\u001b[39m.\u001b[39;49mcall_flat(\u001b[39m*\u001b[39;49margs)\n\u001b[0;32m    217\u001b[0m   \u001b[39mreturn\u001b[39;00m \u001b[39mself\u001b[39m\u001b[39m.\u001b[39mfunction_type\u001b[39m.\u001b[39mpack_output(flat_outputs)\n",
      "File \u001b[1;32mc:\\Users\\gmandl\\AppData\\Local\\Programs\\Python\\Python311\\Lib\\site-packages\\tensorflow\\python\\eager\\polymorphic_function\\atomic_function.py:251\u001b[0m, in \u001b[0;36mAtomicFunction.call_flat\u001b[1;34m(self, *args)\u001b[0m\n\u001b[0;32m    249\u001b[0m \u001b[39mwith\u001b[39;00m record\u001b[39m.\u001b[39mstop_recording():\n\u001b[0;32m    250\u001b[0m   \u001b[39mif\u001b[39;00m \u001b[39mself\u001b[39m\u001b[39m.\u001b[39m_bound_context\u001b[39m.\u001b[39mexecuting_eagerly():\n\u001b[1;32m--> 251\u001b[0m     outputs \u001b[39m=\u001b[39m \u001b[39mself\u001b[39;49m\u001b[39m.\u001b[39;49m_bound_context\u001b[39m.\u001b[39;49mcall_function(\n\u001b[0;32m    252\u001b[0m         \u001b[39mself\u001b[39;49m\u001b[39m.\u001b[39;49mname,\n\u001b[0;32m    253\u001b[0m         \u001b[39mlist\u001b[39;49m(args),\n\u001b[0;32m    254\u001b[0m         \u001b[39mlen\u001b[39;49m(\u001b[39mself\u001b[39;49m\u001b[39m.\u001b[39;49mfunction_type\u001b[39m.\u001b[39;49mflat_outputs),\n\u001b[0;32m    255\u001b[0m     )\n\u001b[0;32m    256\u001b[0m   \u001b[39melse\u001b[39;00m:\n\u001b[0;32m    257\u001b[0m     outputs \u001b[39m=\u001b[39m make_call_op_in_graph(\n\u001b[0;32m    258\u001b[0m         \u001b[39mself\u001b[39m,\n\u001b[0;32m    259\u001b[0m         \u001b[39mlist\u001b[39m(args),\n\u001b[0;32m    260\u001b[0m         \u001b[39mself\u001b[39m\u001b[39m.\u001b[39m_bound_context\u001b[39m.\u001b[39mfunction_call_options\u001b[39m.\u001b[39mas_attrs(),\n\u001b[0;32m    261\u001b[0m     )\n",
      "File \u001b[1;32mc:\\Users\\gmandl\\AppData\\Local\\Programs\\Python\\Python311\\Lib\\site-packages\\tensorflow\\python\\eager\\context.py:1486\u001b[0m, in \u001b[0;36mContext.call_function\u001b[1;34m(self, name, tensor_inputs, num_outputs)\u001b[0m\n\u001b[0;32m   1484\u001b[0m cancellation_context \u001b[39m=\u001b[39m cancellation\u001b[39m.\u001b[39mcontext()\n\u001b[0;32m   1485\u001b[0m \u001b[39mif\u001b[39;00m cancellation_context \u001b[39mis\u001b[39;00m \u001b[39mNone\u001b[39;00m:\n\u001b[1;32m-> 1486\u001b[0m   outputs \u001b[39m=\u001b[39m execute\u001b[39m.\u001b[39;49mexecute(\n\u001b[0;32m   1487\u001b[0m       name\u001b[39m.\u001b[39;49mdecode(\u001b[39m\"\u001b[39;49m\u001b[39mutf-8\u001b[39;49m\u001b[39m\"\u001b[39;49m),\n\u001b[0;32m   1488\u001b[0m       num_outputs\u001b[39m=\u001b[39;49mnum_outputs,\n\u001b[0;32m   1489\u001b[0m       inputs\u001b[39m=\u001b[39;49mtensor_inputs,\n\u001b[0;32m   1490\u001b[0m       attrs\u001b[39m=\u001b[39;49mattrs,\n\u001b[0;32m   1491\u001b[0m       ctx\u001b[39m=\u001b[39;49m\u001b[39mself\u001b[39;49m,\n\u001b[0;32m   1492\u001b[0m   )\n\u001b[0;32m   1493\u001b[0m \u001b[39melse\u001b[39;00m:\n\u001b[0;32m   1494\u001b[0m   outputs \u001b[39m=\u001b[39m execute\u001b[39m.\u001b[39mexecute_with_cancellation(\n\u001b[0;32m   1495\u001b[0m       name\u001b[39m.\u001b[39mdecode(\u001b[39m\"\u001b[39m\u001b[39mutf-8\u001b[39m\u001b[39m\"\u001b[39m),\n\u001b[0;32m   1496\u001b[0m       num_outputs\u001b[39m=\u001b[39mnum_outputs,\n\u001b[1;32m   (...)\u001b[0m\n\u001b[0;32m   1500\u001b[0m       cancellation_manager\u001b[39m=\u001b[39mcancellation_context,\n\u001b[0;32m   1501\u001b[0m   )\n",
      "File \u001b[1;32mc:\\Users\\gmandl\\AppData\\Local\\Programs\\Python\\Python311\\Lib\\site-packages\\tensorflow\\python\\eager\\execute.py:53\u001b[0m, in \u001b[0;36mquick_execute\u001b[1;34m(op_name, num_outputs, inputs, attrs, ctx, name)\u001b[0m\n\u001b[0;32m     51\u001b[0m \u001b[39mtry\u001b[39;00m:\n\u001b[0;32m     52\u001b[0m   ctx\u001b[39m.\u001b[39mensure_initialized()\n\u001b[1;32m---> 53\u001b[0m   tensors \u001b[39m=\u001b[39m pywrap_tfe\u001b[39m.\u001b[39;49mTFE_Py_Execute(ctx\u001b[39m.\u001b[39;49m_handle, device_name, op_name,\n\u001b[0;32m     54\u001b[0m                                       inputs, attrs, num_outputs)\n\u001b[0;32m     55\u001b[0m \u001b[39mexcept\u001b[39;00m core\u001b[39m.\u001b[39m_NotOkStatusException \u001b[39mas\u001b[39;00m e:\n\u001b[0;32m     56\u001b[0m   \u001b[39mif\u001b[39;00m name \u001b[39mis\u001b[39;00m \u001b[39mnot\u001b[39;00m \u001b[39mNone\u001b[39;00m:\n",
      "\u001b[1;31mKeyboardInterrupt\u001b[0m: "
     ]
    }
   ],
   "source": [
    "\n",
    "base_model = MobileNet(include_top=False, input_shape=(160, 160, 3),alpha = 0.5, dropout=0.5)\n",
    "x = base_model.output\n",
    "x = GlobalAveragePooling2D()(x)\n",
    "x = Dense(128, activation = \"relu\")(x)\n",
    "x = Dense(64, activation = \"relu\")(x)\n",
    "preds = Dense(4,activation = \"softmax\")(x)\n",
    "\n",
    "\n",
    "model_mobilenet_dropout4 = Model(inputs = base_model.input, outputs=preds)\n",
    "optimizer = tf.keras.optimizers.SGD(learning_rate=0.01)\n",
    "model_mobilenet_dropout4.compile(optimizer = optimizer, loss = \"categorical_crossentropy\", metrics = ['accuracy'])\n",
    "\n",
    "history = model_mobilenet_dropout4.fit(train_X, train_y, epochs = 10, validation_data = (test_X, test_y), verbose = 1)"
   ]
  },
  {
   "cell_type": "code",
   "execution_count": null,
   "metadata": {},
   "outputs": [],
   "source": [
    "model_mobilenet_dropout4.evaluate(x = val_X, y = val_y)"
   ]
  },
  {
   "cell_type": "markdown",
   "metadata": {},
   "source": [
    "# Testing on new dataset"
   ]
  },
  {
   "cell_type": "code",
   "execution_count": 11,
   "metadata": {},
   "outputs": [
    {
     "name": "stdout",
     "output_type": "stream",
     "text": [
      "Dataset loaded\n",
      "103/103 [==============================] - 19s 178ms/step - loss: 0.0704 - accuracy: 0.9770\n"
     ]
    },
    {
     "data": {
      "text/plain": [
       "[0.0703960657119751, 0.9770290851593018]"
      ]
     },
     "execution_count": 11,
     "metadata": {},
     "output_type": "execute_result"
    }
   ],
   "source": [
    "new_dataset_X = []\n",
    "new_dataset_y = []\n",
    "\n",
    "image_size = 160\n",
    "\n",
    "data_directory = \"MRI2_Data/\"\n",
    "\n",
    "for c in classes:\n",
    "    folder = os.path.join(data_directory, c)\n",
    "    for image in os.listdir(folder):\n",
    "        load_image = ski.imread(os.path.join(folder,image))\n",
    "        load_image = skt.resize(load_image, (image_size,image_size))\n",
    "        new_dataset_X.append(load_image)\n",
    "        new_dataset_y.append(c)\n",
    "\n",
    "new_dataset_X = np.array(X)\n",
    "new_dataset_y = np.array(y)\n",
    "\n",
    "print(\"Dataset loaded\")\n",
    "\n",
    "new_dataset_y_new = []\n",
    "for i in new_dataset_y:\n",
    "    new_dataset_y_new.append(classes.index(i))\n",
    "new_dataset_y = new_dataset_y_new\n",
    "new_dataset_y = tf.keras.utils.to_categorical(new_dataset_y)\n",
    "\n",
    "idg.fit(new_dataset_X)\n",
    "\n",
    "model_mobilenet_alpha2.evaluate(x = new_dataset_X, y = new_dataset_y)"
   ]
  },
  {
   "cell_type": "code",
   "execution_count": 13,
   "metadata": {},
   "outputs": [],
   "source": [
    "new_dataset_y_preds = model_mobilenet_alpha2.predict(new_dataset_X)\n",
    "new_dataset_y_preds"
   ]
  }
 ],
 "metadata": {
  "kernelspec": {
   "display_name": "Python 3",
   "language": "python",
   "name": "python3"
  },
  "language_info": {
   "codemirror_mode": {
    "name": "ipython",
    "version": 3
   },
   "file_extension": ".py",
   "mimetype": "text/x-python",
   "name": "python",
   "nbconvert_exporter": "python",
   "pygments_lexer": "ipython3",
   "version": "3.11.4"
  }
 },
 "nbformat": 4,
 "nbformat_minor": 2
}
